{
 "cells": [
  {
   "cell_type": "code",
   "execution_count": 56,
   "metadata": {},
   "outputs": [
    {
     "data": {
      "text/plain": [
       "31"
      ]
     },
     "execution_count": 56,
     "metadata": {},
     "output_type": "execute_result"
    }
   ],
   "source": [
    "import hashlib\n",
    "\n",
    "def md5_encode(text):\n",
    "    enc = hashlib.md5()\n",
    "    enc.update(text.encode('utf-8'))\n",
    "    encText = enc.hexdigest()\n",
    "    return encText\n",
    "\n",
    "def str_xor(text1, text2):\n",
    "    result = \"\"\n",
    "    for t1, t2 in zip(text1, text2):\n",
    "        result += str(int(t1) ^ int(t2))\n",
    "    return result\n",
    "\n",
    "def sim_hash(text):\n",
    "    words = text.split()                 # 공백을 기준으로 문자열을 분리하여 리스트로 만듦\n",
    "    list = [] \n",
    "\n",
    "    for i in range(len(words) - 2):      # 3-gram이므로 리스트의 마지막에서 요소 두 개 앞까지만 반복함\n",
    "        md5 = md5_encode(words[i] + ' ' + words[i + 1] + ' ' + words[i + 2]) # 현재 문자열과 그다음 문자열과 그 다음 문자열\n",
    "        md5 = int(md5, 16) # Hex to Integer\n",
    "        md5 = \"{0:b}\".format(md5) # Integer to Binary\n",
    "        md5 = md5[0:64] # 상위 64 bit\n",
    "        md5 = [int(x) for x in str(md5)] # bit 단위로 쪼개기\n",
    "        list.append(md5)\n",
    "\n",
    "    total_sum = \"\"\n",
    "    for i in range(64):\n",
    "        sum = 0\n",
    "        for j in range(len(list)):\n",
    "            if list[j][i] > 0:\n",
    "                sum += 1\n",
    "            else:\n",
    "                sum -= 1\n",
    "        if sum >= 0:\n",
    "            total_sum += \"1\"\n",
    "        else:\n",
    "            total_sum += \"0\"\n",
    "\n",
    "    return total_sum\n",
    "\n",
    "text1 = 'SimHash 계산 방법을 간단히 정리하면 다음의 슬라이드로 요약된다'\n",
    "text2 = \"SimHash fingerprint 를 계산하면, 이 fingerprint 를 이용해 유사한 정도 또는 다른 정도를 계산할 수 있다\"\n",
    "\n",
    "sim_hash1 = sim_hash(text1)\n",
    "sim_hash2 = sim_hash(text2)\n",
    "\n",
    "xor = str_xor(sim_hash1, sim_hash2) # XOR\n",
    "hamming_weight = xor.count(\"1\") # hamming weight\n",
    "hamming_weight"
   ]
  }
 ],
 "metadata": {
  "kernelspec": {
   "display_name": "Python 3",
   "language": "python",
   "name": "python3"
  },
  "language_info": {
   "codemirror_mode": {
    "name": "ipython",
    "version": 3
   },
   "file_extension": ".py",
   "mimetype": "text/x-python",
   "name": "python",
   "nbconvert_exporter": "python",
   "pygments_lexer": "ipython3",
   "version": "3.8.3"
  }
 },
 "nbformat": 4,
 "nbformat_minor": 4
}
